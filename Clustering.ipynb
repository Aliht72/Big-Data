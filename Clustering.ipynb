{
  "nbformat": 4,
  "nbformat_minor": 0,
  "metadata": {
    "colab": {
      "name": "Untitled5.ipynb",
      "provenance": [],
      "collapsed_sections": [],
      "authorship_tag": "ABX9TyMciIWxd5HaaqxovL1Fre/u",
      "include_colab_link": true
    },
    "kernelspec": {
      "name": "python3",
      "display_name": "Python 3"
    },
    "language_info": {
      "name": "python"
    }
  },
  "cells": [
    {
      "cell_type": "markdown",
      "metadata": {
        "id": "view-in-github",
        "colab_type": "text"
      },
      "source": [
        "<a href=\"https://colab.research.google.com/github/Aliht72/Big-Data/blob/main/Clustering.ipynb\" target=\"_parent\"><img src=\"https://colab.research.google.com/assets/colab-badge.svg\" alt=\"Open In Colab\"/></a>"
      ]
    },
    {
      "cell_type": "code",
      "execution_count": 2,
      "metadata": {
        "colab": {
          "base_uri": "https://localhost:8080/"
        },
        "id": "PBWRL_QA9l6x",
        "outputId": "1f0bd85c-ea98-46c3-c3a1-75951564276d"
      },
      "outputs": [
        {
          "output_type": "stream",
          "name": "stdout",
          "text": [
            "Reading package lists... Done\n",
            "Building dependency tree       \n",
            "Reading state information... Done\n",
            "The following packages were automatically installed and are no longer required:\n",
            "  libnvidia-common-460 nsight-compute-2020.2.0\n",
            "Use 'apt autoremove' to remove them.\n",
            "The following additional packages will be installed:\n",
            "  openjdk-8-jre-headless\n",
            "Suggested packages:\n",
            "  openjdk-8-demo openjdk-8-source libnss-mdns fonts-dejavu-extra\n",
            "  fonts-ipafont-gothic fonts-ipafont-mincho fonts-wqy-microhei\n",
            "  fonts-wqy-zenhei fonts-indic\n",
            "The following NEW packages will be installed:\n",
            "  openjdk-8-jdk-headless openjdk-8-jre-headless\n",
            "0 upgraded, 2 newly installed, 0 to remove and 42 not upgraded.\n",
            "Need to get 36.5 MB of archives.\n",
            "After this operation, 143 MB of additional disk space will be used.\n",
            "Get:1 http://archive.ubuntu.com/ubuntu bionic-updates/universe amd64 openjdk-8-jre-headless amd64 8u312-b07-0ubuntu1~18.04 [28.2 MB]\n",
            "Get:2 http://archive.ubuntu.com/ubuntu bionic-updates/universe amd64 openjdk-8-jdk-headless amd64 8u312-b07-0ubuntu1~18.04 [8,298 kB]\n",
            "Fetched 36.5 MB in 2s (24.2 MB/s)\n",
            "Selecting previously unselected package openjdk-8-jre-headless:amd64.\n",
            "(Reading database ... 155203 files and directories currently installed.)\n",
            "Preparing to unpack .../openjdk-8-jre-headless_8u312-b07-0ubuntu1~18.04_amd64.deb ...\n",
            "Unpacking openjdk-8-jre-headless:amd64 (8u312-b07-0ubuntu1~18.04) ...\n",
            "Selecting previously unselected package openjdk-8-jdk-headless:amd64.\n",
            "Preparing to unpack .../openjdk-8-jdk-headless_8u312-b07-0ubuntu1~18.04_amd64.deb ...\n",
            "Unpacking openjdk-8-jdk-headless:amd64 (8u312-b07-0ubuntu1~18.04) ...\n",
            "Setting up openjdk-8-jre-headless:amd64 (8u312-b07-0ubuntu1~18.04) ...\n",
            "update-alternatives: using /usr/lib/jvm/java-8-openjdk-amd64/jre/bin/orbd to provide /usr/bin/orbd (orbd) in auto mode\n",
            "update-alternatives: using /usr/lib/jvm/java-8-openjdk-amd64/jre/bin/servertool to provide /usr/bin/servertool (servertool) in auto mode\n",
            "update-alternatives: using /usr/lib/jvm/java-8-openjdk-amd64/jre/bin/tnameserv to provide /usr/bin/tnameserv (tnameserv) in auto mode\n",
            "Setting up openjdk-8-jdk-headless:amd64 (8u312-b07-0ubuntu1~18.04) ...\n",
            "update-alternatives: using /usr/lib/jvm/java-8-openjdk-amd64/bin/idlj to provide /usr/bin/idlj (idlj) in auto mode\n",
            "update-alternatives: using /usr/lib/jvm/java-8-openjdk-amd64/bin/wsimport to provide /usr/bin/wsimport (wsimport) in auto mode\n",
            "update-alternatives: using /usr/lib/jvm/java-8-openjdk-amd64/bin/jsadebugd to provide /usr/bin/jsadebugd (jsadebugd) in auto mode\n",
            "update-alternatives: using /usr/lib/jvm/java-8-openjdk-amd64/bin/native2ascii to provide /usr/bin/native2ascii (native2ascii) in auto mode\n",
            "update-alternatives: using /usr/lib/jvm/java-8-openjdk-amd64/bin/javah to provide /usr/bin/javah (javah) in auto mode\n",
            "update-alternatives: using /usr/lib/jvm/java-8-openjdk-amd64/bin/hsdb to provide /usr/bin/hsdb (hsdb) in auto mode\n",
            "update-alternatives: using /usr/lib/jvm/java-8-openjdk-amd64/bin/clhsdb to provide /usr/bin/clhsdb (clhsdb) in auto mode\n",
            "update-alternatives: using /usr/lib/jvm/java-8-openjdk-amd64/bin/xjc to provide /usr/bin/xjc (xjc) in auto mode\n",
            "update-alternatives: using /usr/lib/jvm/java-8-openjdk-amd64/bin/schemagen to provide /usr/bin/schemagen (schemagen) in auto mode\n",
            "update-alternatives: using /usr/lib/jvm/java-8-openjdk-amd64/bin/extcheck to provide /usr/bin/extcheck (extcheck) in auto mode\n",
            "update-alternatives: using /usr/lib/jvm/java-8-openjdk-amd64/bin/jhat to provide /usr/bin/jhat (jhat) in auto mode\n",
            "update-alternatives: using /usr/lib/jvm/java-8-openjdk-amd64/bin/wsgen to provide /usr/bin/wsgen (wsgen) in auto mode\n"
          ]
        }
      ],
      "source": [
        "!apt-get install openjdk-8-jdk-headless"
      ]
    },
    {
      "cell_type": "code",
      "source": [
        "!wget https://archive.apache.org/dist/spark/spark-3.2.1/spark-3.2.1-bin-hadoop2.7.tgz\n"
      ],
      "metadata": {
        "colab": {
          "base_uri": "https://localhost:8080/"
        },
        "id": "Gr4TGUc493gZ",
        "outputId": "d5f0cce3-36ba-4ee3-ca73-b98d71f27867"
      },
      "execution_count": 16,
      "outputs": [
        {
          "output_type": "stream",
          "name": "stdout",
          "text": [
            "--2022-05-09 16:27:48--  https://archive.apache.org/dist/spark/spark-3.2.1/spark-3.2.1-bin-hadoop2.7.tgz\n",
            "Resolving archive.apache.org (archive.apache.org)... 138.201.131.134, 2a01:4f8:172:2ec5::2\n",
            "Connecting to archive.apache.org (archive.apache.org)|138.201.131.134|:443... connected.\n",
            "HTTP request sent, awaiting response... 200 OK\n",
            "Length: 272637746 (260M) [application/x-gzip]\n",
            "Saving to: ‘spark-3.2.1-bin-hadoop2.7.tgz’\n",
            "\n",
            "spark-3.2.1-bin-had 100%[===================>] 260.01M  30.9MB/s    in 11s     \n",
            "\n",
            "2022-05-09 16:27:59 (23.8 MB/s) - ‘spark-3.2.1-bin-hadoop2.7.tgz’ saved [272637746/272637746]\n",
            "\n"
          ]
        }
      ]
    },
    {
      "cell_type": "code",
      "source": [
        "!tar xf spark-3.2.1-bin-hadoop2.7.tgz\n"
      ],
      "metadata": {
        "id": "wL1JkahD98zo"
      },
      "execution_count": 17,
      "outputs": []
    },
    {
      "cell_type": "code",
      "source": [
        "!pip install -q findspark\n"
      ],
      "metadata": {
        "id": "hfcudKSr-AtJ"
      },
      "execution_count": 18,
      "outputs": []
    },
    {
      "cell_type": "code",
      "source": [
        "import os\n",
        "os.environ[\"JAVA_HOME\"] = \"/usr/lib/jvm/java-8-openjdk-amd64\"\n",
        "os.environ[\"SPARK_HOME\"] = \"/content/spark-3.2.1-bin-hadoop2.7\""
      ],
      "metadata": {
        "id": "Zke8n27E-4eH"
      },
      "execution_count": 19,
      "outputs": []
    },
    {
      "cell_type": "code",
      "source": [
        "import findspark\n",
        "findspark.init()\n",
        "findspark.find()"
      ],
      "metadata": {
        "colab": {
          "base_uri": "https://localhost:8080/",
          "height": 35
        },
        "id": "ggf8CFf5-8XX",
        "outputId": "ea414d9c-78e8-4142-f21c-50f480144eda"
      },
      "execution_count": 20,
      "outputs": [
        {
          "output_type": "execute_result",
          "data": {
            "text/plain": [
              "'/content/spark-3.2.1-bin-hadoop2.7'"
            ],
            "application/vnd.google.colaboratory.intrinsic+json": {
              "type": "string"
            }
          },
          "metadata": {},
          "execution_count": 20
        }
      ]
    },
    {
      "cell_type": "code",
      "source": [
        "from pyspark.sql import SparkSession\n",
        "\n",
        "spark = SparkSession.builder\\\n",
        "        .master(\"local\")\\\n",
        "        .appName(\"DataCleaningApp\")\\\n",
        "        .config('spark.ui.port', '4050')\\\n",
        "        .getOrCreate()"
      ],
      "metadata": {
        "id": "La4bEYWAHIYy"
      },
      "execution_count": 21,
      "outputs": []
    },
    {
      "cell_type": "code",
      "source": [
        "spark"
      ],
      "metadata": {
        "colab": {
          "base_uri": "https://localhost:8080/",
          "height": 221
        },
        "id": "hAZc6APHHQxP",
        "outputId": "756a9836-dd04-4d80-b842-ea6d323f2102"
      },
      "execution_count": 22,
      "outputs": [
        {
          "output_type": "execute_result",
          "data": {
            "text/plain": [
              "<pyspark.sql.session.SparkSession at 0x7fc55b3abe50>"
            ],
            "text/html": [
              "\n",
              "            <div>\n",
              "                <p><b>SparkSession - in-memory</b></p>\n",
              "                \n",
              "        <div>\n",
              "            <p><b>SparkContext</b></p>\n",
              "\n",
              "            <p><a href=\"http://2c10c8ce6732:4050\">Spark UI</a></p>\n",
              "\n",
              "            <dl>\n",
              "              <dt>Version</dt>\n",
              "                <dd><code>v3.2.1</code></dd>\n",
              "              <dt>Master</dt>\n",
              "                <dd><code>local</code></dd>\n",
              "              <dt>AppName</dt>\n",
              "                <dd><code>DataCleaningApp</code></dd>\n",
              "            </dl>\n",
              "        </div>\n",
              "        \n",
              "            </div>\n",
              "        "
            ]
          },
          "metadata": {},
          "execution_count": 22
        }
      ]
    },
    {
      "cell_type": "code",
      "source": [
        "df = spark.read.csv(\"combined-data.csv\", header=True, inferSchema=True)"
      ],
      "metadata": {
        "id": "66QY1BvUHX9H"
      },
      "execution_count": 23,
      "outputs": []
    },
    {
      "cell_type": "code",
      "source": [
        "removeAllNA = df.na.drop()"
      ],
      "metadata": {
        "id": "SUZnoldxMDgp"
      },
      "execution_count": 24,
      "outputs": []
    },
    {
      "cell_type": "code",
      "source": [
        "removeAllNA.count()"
      ],
      "metadata": {
        "colab": {
          "base_uri": "https://localhost:8080/"
        },
        "id": "-f8EGXGgMiOx",
        "outputId": "60a91829-1568-469a-969a-d73e6ad1cda1"
      },
      "execution_count": 25,
      "outputs": [
        {
          "output_type": "execute_result",
          "data": {
            "text/plain": [
              "1411"
            ]
          },
          "metadata": {},
          "execution_count": 25
        }
      ]
    },
    {
      "cell_type": "code",
      "source": [
        "df.count()"
      ],
      "metadata": {
        "colab": {
          "base_uri": "https://localhost:8080/"
        },
        "id": "9HDUwBWVM7CR",
        "outputId": "fab23dc5-a394-4088-a7c0-cb02305aa597"
      },
      "execution_count": 26,
      "outputs": [
        {
          "output_type": "execute_result",
          "data": {
            "text/plain": [
              "4619"
            ]
          },
          "metadata": {},
          "execution_count": 26
        }
      ]
    },
    {
      "cell_type": "code",
      "source": [
        "!wget https://bin.equinox.io/c/4VmDzA7iaHb/ngrok-stable-linux-amd64.zip\n",
        "!unzip ngrok-stable-linux-amd64.zip\n",
        "get_ipython().system_raw('./ngrok http 4050 &')\n",
        "!curl -s http://localhost:4040/api/tunnels"
      ],
      "metadata": {
        "colab": {
          "base_uri": "https://localhost:8080/"
        },
        "id": "IZMEOSTZNnKz",
        "outputId": "9d170cce-013d-4f23-9917-931af230c2ea"
      },
      "execution_count": 27,
      "outputs": [
        {
          "output_type": "stream",
          "name": "stdout",
          "text": [
            "--2022-05-09 16:28:41--  https://bin.equinox.io/c/4VmDzA7iaHb/ngrok-stable-linux-amd64.zip\n",
            "Resolving bin.equinox.io (bin.equinox.io)... 54.161.241.46, 52.202.168.65, 18.205.222.128, ...\n",
            "Connecting to bin.equinox.io (bin.equinox.io)|54.161.241.46|:443... connected.\n",
            "HTTP request sent, awaiting response... 200 OK\n",
            "Length: 13832437 (13M) [application/octet-stream]\n",
            "Saving to: ‘ngrok-stable-linux-amd64.zip’\n",
            "\n",
            "ngrok-stable-linux- 100%[===================>]  13.19M  46.8MB/s    in 0.3s    \n",
            "\n",
            "2022-05-09 16:28:41 (46.8 MB/s) - ‘ngrok-stable-linux-amd64.zip’ saved [13832437/13832437]\n",
            "\n",
            "Archive:  ngrok-stable-linux-amd64.zip\n",
            "  inflating: ngrok                   \n",
            "{\"tunnels\":[],\"uri\":\"/api/tunnels\"}\n"
          ]
        }
      ]
    },
    {
      "cell_type": "code",
      "source": [
        "from itertools import cycle, islice\n",
        "from math import sqrt\n",
        "from numpy import array\n",
        "from pandas.plotting import parallel_coordinates\n",
        "from pyspark.ml.clustering import KMeans as KM\n",
        "from pyspark.mllib.linalg import DenseVector\n",
        "import matplotlib.pyplot as plt\n",
        "import numpy as np\n",
        "import pandas as pd\n",
        "\n",
        "def computeCost(featuresAndPrediction, model):\n",
        "    allClusterCenters = [DenseVector(c) for c in model.clusterCenters()]\n",
        "    arrayCollection   = featuresAndPrediction.rdd.map(array)\n",
        "\n",
        "    def error(point, predictedCluster):\n",
        "        center = allClusterCenters[predictedCluster]\n",
        "        z      = point - center\n",
        "        return sqrt((z*z).sum())\n",
        "    \n",
        "    return arrayCollection.map(lambda row: error(row[0], row[1])).reduce(lambda x, y: x + y)\n",
        "\n",
        "\n",
        "def elbow(elbowset, clusters):\n",
        "\twsseList = []\t\n",
        "\tfor k in clusters:\n",
        "\t\tprint(\"Training for cluster size {} \".format(k))\n",
        "\t\tkmeans = KM(k = k, seed = 1)\n",
        "\t\tmodel = kmeans.fit(elbowset)\n",
        "\t\ttransformed = model.transform(elbowset)\n",
        "\t\tfeaturesAndPrediction = transformed.select(\"features\", \"prediction\")\n",
        "\n",
        "\t\tW = computeCost(featuresAndPrediction, model)\n",
        "\t\tprint(\"......................WSSE = {} \".format(W))\n",
        "\n",
        "\t\twsseList.append(W)\n",
        "\treturn wsseList\n",
        "\n",
        "def elbow_plot(wsseList, clusters):\n",
        "\twsseDF = pd.DataFrame({'WSSE' : wsseList, 'k' : clusters })\n",
        "\twsseDF.plot(y='WSSE', x='k', figsize=(15,10), grid=True, marker='o')\n",
        "\n",
        "def pd_centers(featuresUsed, centers):\n",
        "\tcolNames = list(featuresUsed)\n",
        "\tcolNames.append('prediction')\n",
        "\n",
        "\t# Zip with a column called 'prediction' (index)\n",
        "\tZ = [np.append(A, index) for index, A in enumerate(centers)]\n",
        "\n",
        "\t# Convert to pandas for plotting\n",
        "\tP = pd.DataFrame(Z, columns=colNames)\n",
        "\tP['prediction'] = P['prediction'].astype(int)\n",
        "\treturn P\n",
        "\n",
        "def parallel_plot(data, P):\n",
        "\tmy_colors = list(islice(cycle(['b', 'r', 'g', 'y', 'k']), None, len(P)))\n",
        "\tplt.figure(figsize=(15,8)).gca().axes.set_ylim([-3,+3])\n",
        "\tparallel_coordinates(data, 'prediction', color = my_colors, marker='o')"
      ],
      "metadata": {
        "id": "xjUo-xFGdkSd"
      },
      "execution_count": 28,
      "outputs": []
    },
    {
      "cell_type": "code",
      "source": [
        "removeAllNA.describe().toPandas().transpose()\n"
      ],
      "metadata": {
        "colab": {
          "base_uri": "https://localhost:8080/",
          "height": 332
        },
        "id": "6nFx2tNTd_AV",
        "outputId": "45ef9117-36f2-4815-a64d-ae445ed554f3"
      },
      "execution_count": 29,
      "outputs": [
        {
          "output_type": "execute_result",
          "data": {
            "text/plain": [
              "                      0                   1                   2        3  \\\n",
              "summary           count                mean              stddev      min   \n",
              "userId             1411  1201.0751240255138   691.9957569853385        1   \n",
              "userSessionId      1411   19166.43869596031   7451.158753782938     5652   \n",
              "teamLevel          1411   4.834160170092133  1.7914678556629045        1   \n",
              "platformType       1411                None                None  android   \n",
              "count_gameclicks   1411  145.23458540042523  119.76291399660911        6   \n",
              "count_hits         1411  16.758327427356484  13.565930146754264        0   \n",
              "count_buyId        1411  1.6832034018426647  0.9005088871085436        1   \n",
              "avg_price          1411   7.214323175053155   6.536501375588665      1.0   \n",
              "\n",
              "                        4  \n",
              "summary               max  \n",
              "userId               2387  \n",
              "userSessionId       38321  \n",
              "teamLevel               7  \n",
              "platformType      windows  \n",
              "count_gameclicks      982  \n",
              "count_hits            100  \n",
              "count_buyId             6  \n",
              "avg_price            20.0  "
            ],
            "text/html": [
              "\n",
              "  <div id=\"df-5f9ffd5a-0ca8-4674-a905-ecfa1d22b9dc\">\n",
              "    <div class=\"colab-df-container\">\n",
              "      <div>\n",
              "<style scoped>\n",
              "    .dataframe tbody tr th:only-of-type {\n",
              "        vertical-align: middle;\n",
              "    }\n",
              "\n",
              "    .dataframe tbody tr th {\n",
              "        vertical-align: top;\n",
              "    }\n",
              "\n",
              "    .dataframe thead th {\n",
              "        text-align: right;\n",
              "    }\n",
              "</style>\n",
              "<table border=\"1\" class=\"dataframe\">\n",
              "  <thead>\n",
              "    <tr style=\"text-align: right;\">\n",
              "      <th></th>\n",
              "      <th>0</th>\n",
              "      <th>1</th>\n",
              "      <th>2</th>\n",
              "      <th>3</th>\n",
              "      <th>4</th>\n",
              "    </tr>\n",
              "  </thead>\n",
              "  <tbody>\n",
              "    <tr>\n",
              "      <th>summary</th>\n",
              "      <td>count</td>\n",
              "      <td>mean</td>\n",
              "      <td>stddev</td>\n",
              "      <td>min</td>\n",
              "      <td>max</td>\n",
              "    </tr>\n",
              "    <tr>\n",
              "      <th>userId</th>\n",
              "      <td>1411</td>\n",
              "      <td>1201.0751240255138</td>\n",
              "      <td>691.9957569853385</td>\n",
              "      <td>1</td>\n",
              "      <td>2387</td>\n",
              "    </tr>\n",
              "    <tr>\n",
              "      <th>userSessionId</th>\n",
              "      <td>1411</td>\n",
              "      <td>19166.43869596031</td>\n",
              "      <td>7451.158753782938</td>\n",
              "      <td>5652</td>\n",
              "      <td>38321</td>\n",
              "    </tr>\n",
              "    <tr>\n",
              "      <th>teamLevel</th>\n",
              "      <td>1411</td>\n",
              "      <td>4.834160170092133</td>\n",
              "      <td>1.7914678556629045</td>\n",
              "      <td>1</td>\n",
              "      <td>7</td>\n",
              "    </tr>\n",
              "    <tr>\n",
              "      <th>platformType</th>\n",
              "      <td>1411</td>\n",
              "      <td>None</td>\n",
              "      <td>None</td>\n",
              "      <td>android</td>\n",
              "      <td>windows</td>\n",
              "    </tr>\n",
              "    <tr>\n",
              "      <th>count_gameclicks</th>\n",
              "      <td>1411</td>\n",
              "      <td>145.23458540042523</td>\n",
              "      <td>119.76291399660911</td>\n",
              "      <td>6</td>\n",
              "      <td>982</td>\n",
              "    </tr>\n",
              "    <tr>\n",
              "      <th>count_hits</th>\n",
              "      <td>1411</td>\n",
              "      <td>16.758327427356484</td>\n",
              "      <td>13.565930146754264</td>\n",
              "      <td>0</td>\n",
              "      <td>100</td>\n",
              "    </tr>\n",
              "    <tr>\n",
              "      <th>count_buyId</th>\n",
              "      <td>1411</td>\n",
              "      <td>1.6832034018426647</td>\n",
              "      <td>0.9005088871085436</td>\n",
              "      <td>1</td>\n",
              "      <td>6</td>\n",
              "    </tr>\n",
              "    <tr>\n",
              "      <th>avg_price</th>\n",
              "      <td>1411</td>\n",
              "      <td>7.214323175053155</td>\n",
              "      <td>6.536501375588665</td>\n",
              "      <td>1.0</td>\n",
              "      <td>20.0</td>\n",
              "    </tr>\n",
              "  </tbody>\n",
              "</table>\n",
              "</div>\n",
              "      <button class=\"colab-df-convert\" onclick=\"convertToInteractive('df-5f9ffd5a-0ca8-4674-a905-ecfa1d22b9dc')\"\n",
              "              title=\"Convert this dataframe to an interactive table.\"\n",
              "              style=\"display:none;\">\n",
              "        \n",
              "  <svg xmlns=\"http://www.w3.org/2000/svg\" height=\"24px\"viewBox=\"0 0 24 24\"\n",
              "       width=\"24px\">\n",
              "    <path d=\"M0 0h24v24H0V0z\" fill=\"none\"/>\n",
              "    <path d=\"M18.56 5.44l.94 2.06.94-2.06 2.06-.94-2.06-.94-.94-2.06-.94 2.06-2.06.94zm-11 1L8.5 8.5l.94-2.06 2.06-.94-2.06-.94L8.5 2.5l-.94 2.06-2.06.94zm10 10l.94 2.06.94-2.06 2.06-.94-2.06-.94-.94-2.06-.94 2.06-2.06.94z\"/><path d=\"M17.41 7.96l-1.37-1.37c-.4-.4-.92-.59-1.43-.59-.52 0-1.04.2-1.43.59L10.3 9.45l-7.72 7.72c-.78.78-.78 2.05 0 2.83L4 21.41c.39.39.9.59 1.41.59.51 0 1.02-.2 1.41-.59l7.78-7.78 2.81-2.81c.8-.78.8-2.07 0-2.86zM5.41 20L4 18.59l7.72-7.72 1.47 1.35L5.41 20z\"/>\n",
              "  </svg>\n",
              "      </button>\n",
              "      \n",
              "  <style>\n",
              "    .colab-df-container {\n",
              "      display:flex;\n",
              "      flex-wrap:wrap;\n",
              "      gap: 12px;\n",
              "    }\n",
              "\n",
              "    .colab-df-convert {\n",
              "      background-color: #E8F0FE;\n",
              "      border: none;\n",
              "      border-radius: 50%;\n",
              "      cursor: pointer;\n",
              "      display: none;\n",
              "      fill: #1967D2;\n",
              "      height: 32px;\n",
              "      padding: 0 0 0 0;\n",
              "      width: 32px;\n",
              "    }\n",
              "\n",
              "    .colab-df-convert:hover {\n",
              "      background-color: #E2EBFA;\n",
              "      box-shadow: 0px 1px 2px rgba(60, 64, 67, 0.3), 0px 1px 3px 1px rgba(60, 64, 67, 0.15);\n",
              "      fill: #174EA6;\n",
              "    }\n",
              "\n",
              "    [theme=dark] .colab-df-convert {\n",
              "      background-color: #3B4455;\n",
              "      fill: #D2E3FC;\n",
              "    }\n",
              "\n",
              "    [theme=dark] .colab-df-convert:hover {\n",
              "      background-color: #434B5C;\n",
              "      box-shadow: 0px 1px 3px 1px rgba(0, 0, 0, 0.15);\n",
              "      filter: drop-shadow(0px 1px 2px rgba(0, 0, 0, 0.3));\n",
              "      fill: #FFFFFF;\n",
              "    }\n",
              "  </style>\n",
              "\n",
              "      <script>\n",
              "        const buttonEl =\n",
              "          document.querySelector('#df-5f9ffd5a-0ca8-4674-a905-ecfa1d22b9dc button.colab-df-convert');\n",
              "        buttonEl.style.display =\n",
              "          google.colab.kernel.accessAllowed ? 'block' : 'none';\n",
              "\n",
              "        async function convertToInteractive(key) {\n",
              "          const element = document.querySelector('#df-5f9ffd5a-0ca8-4674-a905-ecfa1d22b9dc');\n",
              "          const dataTable =\n",
              "            await google.colab.kernel.invokeFunction('convertToInteractive',\n",
              "                                                     [key], {});\n",
              "          if (!dataTable) return;\n",
              "\n",
              "          const docLinkHtml = 'Like what you see? Visit the ' +\n",
              "            '<a target=\"_blank\" href=https://colab.research.google.com/notebooks/data_table.ipynb>data table notebook</a>'\n",
              "            + ' to learn more about interactive tables.';\n",
              "          element.innerHTML = '';\n",
              "          dataTable['output_type'] = 'display_data';\n",
              "          await google.colab.output.renderOutput(dataTable, element);\n",
              "          const docLink = document.createElement('div');\n",
              "          docLink.innerHTML = docLinkHtml;\n",
              "          element.appendChild(docLink);\n",
              "        }\n",
              "      </script>\n",
              "    </div>\n",
              "  </div>\n",
              "  "
            ]
          },
          "metadata": {},
          "execution_count": 29
        }
      ]
    },
    {
      "cell_type": "code",
      "source": [
        "workingDF = removeAllNA.drop('userId').drop('userSessionId')\n"
      ],
      "metadata": {
        "id": "J1JPha23eKI2"
      },
      "execution_count": 30,
      "outputs": []
    },
    {
      "cell_type": "code",
      "source": [
        "from pyspark.sql import functions as F\n",
        "categories = workingDF.select(\"platformType\").distinct().rdd.flatMap(lambda x: x).collect()\n",
        "\n",
        "exprs = [F.when(F.col(\"platformType\") == category, 1).otherwise(0).alias(category)\n",
        "         for category in categories]\n",
        "\n",
        "AfterDummy = removeAllNA.select(\"count_buyId\", \"avg_price\" , \"count_hits\" , \"count_gameclicks\" , \"teamLevel\" ,  *exprs)\n"
      ],
      "metadata": {
        "id": "hZXdswhszaML"
      },
      "execution_count": 31,
      "outputs": []
    },
    {
      "cell_type": "code",
      "source": [
        "from pyspark.sql.functions import monotonically_increasing_id \n",
        "\n",
        "AfterDummy= AfterDummy.select(\"*\").withColumn(\"rowID\", monotonically_increasing_id())\n"
      ],
      "metadata": {
        "id": "JOw2a6sgBIr-"
      },
      "execution_count": 32,
      "outputs": []
    },
    {
      "cell_type": "code",
      "source": [
        "from pyspark.ml.clustering import KMeans\n",
        "from pyspark.ml.feature import VectorAssembler\n",
        "from pyspark.ml.feature import StandardScaler\n",
        "featuresUsed = ['teamLevel',  'count_gameclicks', 'count_hits', 'count_buyId', \n",
        "        'avg_price' , \"iphone\" , \"android\"  , \"linux\" , \"mac\" , \"windows\" ]\n",
        "assembler = VectorAssembler(inputCols=featuresUsed, outputCol=\"features_unscaled\")\n",
        "assembled = assembler.transform(AfterDummy)"
      ],
      "metadata": {
        "id": "FoSR_yDniWAN"
      },
      "execution_count": 33,
      "outputs": []
    },
    {
      "cell_type": "code",
      "source": [
        "scaler = StandardScaler(inputCol=\"features_unscaled\", outputCol=\"features\", withStd=True, withMean=True)\n",
        "scalerModel = scaler.fit(assembled)\n",
        "scaledData = scalerModel.transform(assembled)"
      ],
      "metadata": {
        "id": "tvLe9D6U3wsR"
      },
      "execution_count": 34,
      "outputs": []
    },
    {
      "cell_type": "code",
      "source": [
        "scaledData = scaledData.select(\"features\", \"rowID\")\n",
        "elbowset = scaledData.filter((scaledData.rowID % 3) == 0).select(\"features\")\n",
        "elbowset.persist()"
      ],
      "metadata": {
        "colab": {
          "base_uri": "https://localhost:8080/"
        },
        "id": "IxYYGvqx4hLf",
        "outputId": "0523721f-b4ec-4deb-9f1a-9b7045d57960"
      },
      "execution_count": 35,
      "outputs": [
        {
          "output_type": "execute_result",
          "data": {
            "text/plain": [
              "DataFrame[features: vector]"
            ]
          },
          "metadata": {},
          "execution_count": 35
        }
      ]
    },
    {
      "cell_type": "code",
      "source": [
        "clusters = range(2,31)\n",
        "\n",
        "wsseList = elbow(elbowset, clusters)"
      ],
      "metadata": {
        "colab": {
          "base_uri": "https://localhost:8080/"
        },
        "id": "0jkn2yCZ4zej",
        "outputId": "b3ed9126-c899-47dd-da5a-332dd8483ce3"
      },
      "execution_count": 36,
      "outputs": [
        {
          "output_type": "stream",
          "name": "stdout",
          "text": [
            "Training for cluster size 2 \n",
            "......................WSSE = 1330.6003176208835 \n",
            "Training for cluster size 3 \n",
            "......................WSSE = 1120.3882749469185 \n",
            "Training for cluster size 4 \n",
            "......................WSSE = 1039.0133577573733 \n",
            "Training for cluster size 5 \n",
            "......................WSSE = 952.2888884811715 \n",
            "Training for cluster size 6 \n",
            "......................WSSE = 826.8580988927658 \n",
            "Training for cluster size 7 \n",
            "......................WSSE = 787.2107467784595 \n",
            "Training for cluster size 8 \n",
            "......................WSSE = 771.5035449895054 \n",
            "Training for cluster size 9 \n",
            "......................WSSE = 754.132251085829 \n",
            "Training for cluster size 10 \n",
            "......................WSSE = 730.7854760901855 \n",
            "Training for cluster size 11 \n",
            "......................WSSE = 704.5661383753041 \n",
            "Training for cluster size 12 \n",
            "......................WSSE = 664.5380693320985 \n",
            "Training for cluster size 13 \n",
            "......................WSSE = 657.4494246782355 \n",
            "Training for cluster size 14 \n",
            "......................WSSE = 630.6613126473402 \n",
            "Training for cluster size 15 \n",
            "......................WSSE = 636.6699311555814 \n",
            "Training for cluster size 16 \n",
            "......................WSSE = 628.4701321000537 \n",
            "Training for cluster size 17 \n",
            "......................WSSE = 604.2372703130327 \n",
            "Training for cluster size 18 \n",
            "......................WSSE = 588.3781973085505 \n",
            "Training for cluster size 19 \n",
            "......................WSSE = 604.9176303560874 \n",
            "Training for cluster size 20 \n",
            "......................WSSE = 552.874218151463 \n",
            "Training for cluster size 21 \n",
            "......................WSSE = 569.4394463872898 \n",
            "Training for cluster size 22 \n",
            "......................WSSE = 526.0473898920598 \n",
            "Training for cluster size 23 \n",
            "......................WSSE = 536.8324581428238 \n",
            "Training for cluster size 24 \n",
            "......................WSSE = 525.5331038339846 \n",
            "Training for cluster size 25 \n",
            "......................WSSE = 517.8257888540851 \n",
            "Training for cluster size 26 \n",
            "......................WSSE = 496.5309709981743 \n",
            "Training for cluster size 27 \n",
            "......................WSSE = 489.63227639856984 \n",
            "Training for cluster size 28 \n",
            "......................WSSE = 491.1035846077826 \n",
            "Training for cluster size 29 \n",
            "......................WSSE = 474.3664235567828 \n",
            "Training for cluster size 30 \n",
            "......................WSSE = 474.561478692254 \n"
          ]
        }
      ]
    },
    {
      "cell_type": "code",
      "source": [
        "elbow_plot(wsseList, clusters)\n"
      ],
      "metadata": {
        "colab": {
          "base_uri": "https://localhost:8080/",
          "height": 606
        },
        "id": "eCVMEAeOBVXI",
        "outputId": "dc04d05c-0b6e-4365-abfa-b93de2d4f01a"
      },
      "execution_count": 37,
      "outputs": [
        {
          "output_type": "display_data",
          "data": {
            "text/plain": [
              "<Figure size 1080x720 with 1 Axes>"
            ],
            "image/png": "[encoded data removed]"
          },
          "metadata": {
            "needs_background": "light"
          }
        }
      ]
    },
    {
      "cell_type": "code",
      "source": [
        "scaledDataFeat = scaledData.select(\"features\")\n",
        "scaledDataFeat.persist()"
      ],
      "metadata": {
        "colab": {
          "base_uri": "https://localhost:8080/"
        },
        "id": "by7uTysTHVsK",
        "outputId": "515fbab5-15ce-49de-f3d6-517c0102567c"
      },
      "execution_count": 38,
      "outputs": [
        {
          "output_type": "execute_result",
          "data": {
            "text/plain": [
              "DataFrame[features: vector]"
            ]
          },
          "metadata": {},
          "execution_count": 38
        }
      ]
    },
    {
      "cell_type": "code",
      "source": [
        "kmeans = KMeans(k=12, seed=1)\n",
        "model = kmeans.fit(scaledDataFeat)\n",
        "transformed = model.transform(scaledDataFeat)"
      ],
      "metadata": {
        "id": "FMukyIAjHW3v"
      },
      "execution_count": 39,
      "outputs": []
    },
    {
      "cell_type": "code",
      "source": [
        "centers = model.clusterCenters()\n",
        "centers"
      ],
      "metadata": {
        "colab": {
          "base_uri": "https://localhost:8080/"
        },
        "id": "p6hgH3YFHfSy",
        "outputId": "bcaea817-d212-4a04-9142-5d9465167bf8"
      },
      "execution_count": 40,
      "outputs": [
        {
          "output_type": "execute_result",
          "data": {
            "text/plain": [
              "[array([-1.16013592, -0.35818581, -0.34989857, -0.33257026,  1.76333255,\n",
              "         1.2414706 , -0.75555583, -0.2700964 , -0.17934453, -0.40978929]),\n",
              " array([ 0.79032388, -0.23217053, -0.25093456,  0.42582952, -0.46027271,\n",
              "        -0.80492545,  1.32259092, -0.2700964 , -0.17934453, -0.40978929]),\n",
              " array([ 0.17046062,  0.0539657 ,  0.04010032, -0.06140575, -0.32079567,\n",
              "        -0.80492545, -0.75555583, -0.2700964 ,  5.5719084 , -0.40978929]),\n",
              " array([ 0.12997729, -0.15216961, -0.20294759,  0.08848685, -0.75513196,\n",
              "        -0.80492545, -0.75555583, -0.2700964 , -0.17934453,  2.43854906]),\n",
              " array([-0.97190519, -0.48333617, -0.51018382, -0.39713323,  0.08817783,\n",
              "         1.2414706 , -0.75555583, -0.2700964 , -0.17934453, -0.40978929]),\n",
              " array([-0.20513542, -0.1272062 , -0.17220384,  0.00631364, -0.90297895,\n",
              "        -0.80492545, -0.75555583,  3.69975793, -0.17934453, -0.40978929]),\n",
              " array([ 0.67845293, -0.07876339,  0.03487247, -0.37322892,  1.81696373,\n",
              "         1.2414706 , -0.75555583, -0.2700964 , -0.17934453, -0.40978929]),\n",
              " array([-0.50187629,  1.87556022,  1.91331947, -0.28276453, -0.3523329 ,\n",
              "        -0.29997058,  0.67485686, -0.2700964 , -0.17934453, -0.22483225]),\n",
              " array([ 0.57288494, -0.04341663,  0.07438594,  1.87548357,  0.88136227,\n",
              "         1.2176753 , -0.73139134, -0.2700964 , -0.17934453, -0.40978929]),\n",
              " array([ 0.69282979, -0.04290723,  0.02538803, -0.2642927 ,  0.1893569 ,\n",
              "         1.2414706 , -0.75555583, -0.2700964 , -0.17934453, -0.40978929]),\n",
              " array([-1.26804406e+00,  4.27419806e+00,  4.00298188e+00, -3.07552103e-01,\n",
              "        -3.27886682e-02, -3.75269297e-02, -1.71077061e-01,  4.74251289e-01,\n",
              "         3.82126125e-04, -5.37469940e-02]),\n",
              " array([-0.82713135, -0.4520146 , -0.48765328, -0.4784211 , -0.48725488,\n",
              "        -0.80492545,  1.32259092, -0.2700964 , -0.17934453, -0.40978929])]"
            ]
          },
          "metadata": {},
          "execution_count": 40
        }
      ]
    },
    {
      "cell_type": "code",
      "source": [
        "centers = model.clusterCenters()\n",
        "centers"
      ],
      "metadata": {
        "colab": {
          "base_uri": "https://localhost:8080/"
        },
        "id": "SGtTT6D9HgvM",
        "outputId": "b261bc9b-5a83-4829-fc4d-ae363cbbd928"
      },
      "execution_count": 41,
      "outputs": [
        {
          "output_type": "execute_result",
          "data": {
            "text/plain": [
              "[array([-1.16013592, -0.35818581, -0.34989857, -0.33257026,  1.76333255,\n",
              "         1.2414706 , -0.75555583, -0.2700964 , -0.17934453, -0.40978929]),\n",
              " array([ 0.79032388, -0.23217053, -0.25093456,  0.42582952, -0.46027271,\n",
              "        -0.80492545,  1.32259092, -0.2700964 , -0.17934453, -0.40978929]),\n",
              " array([ 0.17046062,  0.0539657 ,  0.04010032, -0.06140575, -0.32079567,\n",
              "        -0.80492545, -0.75555583, -0.2700964 ,  5.5719084 , -0.40978929]),\n",
              " array([ 0.12997729, -0.15216961, -0.20294759,  0.08848685, -0.75513196,\n",
              "        -0.80492545, -0.75555583, -0.2700964 , -0.17934453,  2.43854906]),\n",
              " array([-0.97190519, -0.48333617, -0.51018382, -0.39713323,  0.08817783,\n",
              "         1.2414706 , -0.75555583, -0.2700964 , -0.17934453, -0.40978929]),\n",
              " array([-0.20513542, -0.1272062 , -0.17220384,  0.00631364, -0.90297895,\n",
              "        -0.80492545, -0.75555583,  3.69975793, -0.17934453, -0.40978929]),\n",
              " array([ 0.67845293, -0.07876339,  0.03487247, -0.37322892,  1.81696373,\n",
              "         1.2414706 , -0.75555583, -0.2700964 , -0.17934453, -0.40978929]),\n",
              " array([-0.50187629,  1.87556022,  1.91331947, -0.28276453, -0.3523329 ,\n",
              "        -0.29997058,  0.67485686, -0.2700964 , -0.17934453, -0.22483225]),\n",
              " array([ 0.57288494, -0.04341663,  0.07438594,  1.87548357,  0.88136227,\n",
              "         1.2176753 , -0.73139134, -0.2700964 , -0.17934453, -0.40978929]),\n",
              " array([ 0.69282979, -0.04290723,  0.02538803, -0.2642927 ,  0.1893569 ,\n",
              "         1.2414706 , -0.75555583, -0.2700964 , -0.17934453, -0.40978929]),\n",
              " array([-1.26804406e+00,  4.27419806e+00,  4.00298188e+00, -3.07552103e-01,\n",
              "        -3.27886682e-02, -3.75269297e-02, -1.71077061e-01,  4.74251289e-01,\n",
              "         3.82126125e-04, -5.37469940e-02]),\n",
              " array([-0.82713135, -0.4520146 , -0.48765328, -0.4784211 , -0.48725488,\n",
              "        -0.80492545,  1.32259092, -0.2700964 , -0.17934453, -0.40978929])]"
            ]
          },
          "metadata": {},
          "execution_count": 41
        }
      ]
    },
    {
      "cell_type": "code",
      "source": [
        "P = pd_centers(featuresUsed, centers)\n"
      ],
      "metadata": {
        "id": "KtWfRirFqKSa"
      },
      "execution_count": 51,
      "outputs": []
    },
    {
      "cell_type": "code",
      "source": [
        "parallel_plot(P[P['avg_price'] > 5], P)\n"
      ],
      "metadata": {
        "colab": {
          "base_uri": "https://localhost:8080/",
          "height": 506
        },
        "id": "ORl7LlM4qSGI",
        "outputId": "061ce574-f09f-41b2-f15a-27fbf7863915"
      },
      "execution_count": 53,
      "outputs": [
        {
          "output_type": "stream",
          "name": "stderr",
          "text": [
            "No handles with labels found to put in legend.\n"
          ]
        },
        {
          "output_type": "display_data",
          "data": {
            "text/plain": [
              "<Figure size 1080x576 with 1 Axes>"
            ],
            "image/png": "[encoded data removed]"
          },
          "metadata": {
            "needs_background": "light"
          }
        }
      ]
    },
    {
      "cell_type": "markdown",
      "source": [
        "#Clustering\n"
      ],
      "metadata": {
        "id": "4b2fZdgg9nau"
      }
    }
  ]
}